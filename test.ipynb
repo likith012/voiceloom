{
 "cells": [
  {
   "cell_type": "code",
   "execution_count": null,
   "id": "f4be3966",
   "metadata": {},
   "outputs": [],
   "source": [
    "# Test harness for TTS synthesis\n",
    "import sys\n",
    "from pathlib import Path\n",
    "\n",
    "# Add project root to sys.path\n",
    "root = Path(__file__).resolve().parents[1]\n",
    "if str(root) not in sys.path:\n",
    "    sys.path.insert(0, str(root))\n",
    "\n",
    "from app.services.synth.singlepass import synthesize_single_pass\n",
    "from app.domain.roles import resolve_registry\n",
    "\n",
    "# Load registry from app/config/voices.yml\n",
    "roles = [\"Narrator\", \"Protagonist_M\"]  # must match your script\n",
    "registry = resolve_registry(\n",
    "    roles,\n",
    "    search_paths=[\n",
    "        root / \"app\" / \"config\" / \"voices.yml\",\n",
    "        root / \"app\" / \"config\" / \"voices.yaml\",\n",
    "    ],\n",
    ")\n",
    "\n",
    "# Example script with [Role] tags\n",
    "script = \"\"\"[Narrator] It was a quiet evening.\n",
    "[Protagonist_M] I never thought we'd meet again.\n",
    "[Narrator] Yet here we are.\n",
    "\"\"\"\n",
    "\n",
    "# Paths\n",
    "out_dir = root / \"out\"\n",
    "out_dir.mkdir(exist_ok=True)\n",
    "\n",
    "# Run synthesis\n",
    "audio_path = synthesize_single_pass(\n",
    "    script=script,\n",
    "    registry=registry,\n",
    "    output_dir=out_dir,\n",
    "    output_basename=\"test_output\",\n",
    "    output_format=\"wav\",\n",
    "    sample_rate=24000,\n",
    "    google_api_key=\"YOUR_GOOGLE_API_KEY\",   # set here or load via dotenv\n",
    "    tts_model=\"gemini-2.5-flash-preview-tts\",\n",
    "    request_timeout_sec=60,\n",
    ")\n",
    "\n",
    "print(f\"Audio saved at: {audio_path}\")\n"
   ]
  }
 ],
 "metadata": {
  "kernelspec": {
   "display_name": "torch",
   "language": "python",
   "name": "python3"
  },
  "language_info": {
   "name": "python",
   "version": "3.12.11"
  }
 },
 "nbformat": 4,
 "nbformat_minor": 5
}
